{
 "cells": [
  {
   "cell_type": "code",
   "execution_count": 1,
   "metadata": {
    "collapsed": false
   },
   "outputs": [],
   "source": [
    "from pyspark.sql import SQLContext\n",
    "from pyspark.sql import DataFrameNaFunctions\n",
    "from pyspark.ml import Pipeline\n",
    "from pyspark.ml.classification import DecisionTreeClassifier\n",
    "from pyspark.ml.feature import Binarizer\n",
    "from pyspark.ml.feature import VectorAssembler, StringIndexer, VectorIndexer"
   ]
  },
  {
   "cell_type": "code",
   "execution_count": 5,
   "metadata": {
    "collapsed": false
   },
   "outputs": [
    {
     "data": {
      "text/plain": [
       "['number',\n",
       " 'air_pressure_9am',\n",
       " 'air_temp_9am',\n",
       " 'avg_wind_direction_9am',\n",
       " 'avg_wind_speed_9am',\n",
       " 'max_wind_direction_9am',\n",
       " 'max_wind_speed_9am',\n",
       " 'rain_accumulation_9am',\n",
       " 'rain_duration_9am',\n",
       " 'relative_humidity_9am',\n",
       " 'relative_humidity_3pm']"
      ]
     },
     "execution_count": 5,
     "metadata": {},
     "output_type": "execute_result"
    }
   ],
   "source": [
    "sqlContext = SQLContext(sc)\n",
    "df = sqlContext.read.load('file:///home/cloudera/Downloads/big-data-4/daily_weather.csv', \n",
    "                          format='com.databricks.spark.csv', \n",
    "                          header='true',inferSchema='true')\n",
    "df.columns"
   ]
  },
  {
   "cell_type": "code",
   "execution_count": 6,
   "metadata": {
    "collapsed": false
   },
   "outputs": [
    {
     "data": {
      "text/plain": [
       "(1064, 10)"
      ]
     },
     "execution_count": 6,
     "metadata": {},
     "output_type": "execute_result"
    }
   ],
   "source": [
    "featureColumns = ['air_pressure_9am','air_temp_9am','avg_wind_direction_9am','avg_wind_speed_9am',\n",
    "        'max_wind_direction_9am','max_wind_speed_9am','rain_accumulation_9am',\n",
    "        'rain_duration_9am']\n",
    "\n",
    "df=df.drop('number')\n",
    "df=df.na.drop()\n",
    "df.count(), len(df.columns)"
   ]
  },
  {
   "cell_type": "code",
   "execution_count": 8,
   "metadata": {
    "collapsed": false
   },
   "outputs": [
    {
     "name": "stdout",
     "output_type": "stream",
     "text": [
      "+---------------------+-----+\n",
      "|relative_humidity_3pm|label|\n",
      "+---------------------+-----+\n",
      "|   36.160000000000494|  1.0|\n",
      "|     19.4265967985621|  0.0|\n",
      "|   14.460000000000045|  0.0|\n",
      "|   12.742547353761848|  0.0|\n",
      "|    76.74000000000046|  1.0|\n",
      "|   33.930000000000256|  1.0|\n",
      "|   21.385656725200974|  0.0|\n",
      "|    74.92000000000041|  1.0|\n",
      "|   24.030000000000427|  0.0|\n",
      "|     68.0500000000012|  1.0|\n",
      "+---------------------+-----+\n",
      "only showing top 10 rows\n",
      "\n"
     ]
    }
   ],
   "source": [
    "# Let's create a categorical variable to denote if the humidity is not low. \n",
    "# If the value is less than 25%,then we want the categorical value to be 0, \n",
    "# otherwise the categorical value should be 1. We can create this categorical \n",
    "# variable as a column in a DataFrame using Binarizer:\n",
    "\n",
    "binarizer = Binarizer(threshold=24.99999,inputCol='relative_humidity_3pm',outputCol='label')\n",
    "binarized_df = binarizer.transform(df)\n",
    "binarized_df.select('relative_humidity_3pm','label').show(10)"
   ]
  },
  {
   "cell_type": "code",
   "execution_count": 13,
   "metadata": {
    "collapsed": false
   },
   "outputs": [
    {
     "name": "stdout",
     "output_type": "stream",
     "text": [
      "+--------------------+\n",
      "|            features|\n",
      "+--------------------+\n",
      "|[918.060000000008...|\n",
      "|[917.347688117709...|\n",
      "|[923.040000000008...|\n",
      "|[920.502751175919...|\n",
      "|[921.160000000003...|\n",
      "|[915.300000000006...|\n",
      "|[915.598867513280...|\n",
      "|[918.070000000002...|\n",
      "|[920.080000000006...|\n",
      "|[915.010000000011...|\n",
      "+--------------------+\n",
      "only showing top 10 rows\n",
      "\n"
     ]
    }
   ],
   "source": [
    "#  Let's aggregate the features we will use to make predictions into a single column:\n",
    "\n",
    "assembler = VectorAssembler(inputCols=featureColumns,outputCol='features')\n",
    "assembled = assembler.transform(binarized_df)\n",
    "assembled.select('features').show(10)"
   ]
  },
  {
   "cell_type": "code",
   "execution_count": 14,
   "metadata": {
    "collapsed": false
   },
   "outputs": [
    {
     "data": {
      "text/plain": [
       "(854, 210)"
      ]
     },
     "execution_count": 14,
     "metadata": {},
     "output_type": "execute_result"
    }
   ],
   "source": [
    "(trainingData, testData) = assembled.randomSplit([0.8,0.2], seed=13234)\n",
    "trainingData.count(),testData.count()"
   ]
  },
  {
   "cell_type": "code",
   "execution_count": 16,
   "metadata": {
    "collapsed": false
   },
   "outputs": [],
   "source": [
    "# The labelCol argument is the column we are trying to predict, \n",
    "# featuresCol specifies the aggregated features column, maxDepth \n",
    "# is stopping criterion for tree induction based on maximum depth \n",
    "# of tree, minInstancesPerNode is stopping criterion for tree induction \n",
    "# based on minimum number of samples in a node, and impurity is the impurity \n",
    "# measure used to split nodes.\n",
    "\n",
    "dt = DecisionTreeClassifier(labelCol='label',featuresCol='features',maxDepth=5,\n",
    "                          minInstancesPerNode=20,impurity='gini')"
   ]
  },
  {
   "cell_type": "code",
   "execution_count": 17,
   "metadata": {
    "collapsed": true
   },
   "outputs": [],
   "source": [
    "# We can create a model by training the decision tree. \n",
    "# This is done by executing it in a Pipeline:\n",
    "\n",
    "pipeline=Pipeline(stages=[dt])\n",
    "model=pipeline.fit(trainingData)"
   ]
  },
  {
   "cell_type": "code",
   "execution_count": 18,
   "metadata": {
    "collapsed": false
   },
   "outputs": [
    {
     "name": "stdout",
     "output_type": "stream",
     "text": [
      "+----------+-----+\n",
      "|prediction|label|\n",
      "+----------+-----+\n",
      "|       1.0|  1.0|\n",
      "|       1.0|  1.0|\n",
      "|       1.0|  1.0|\n",
      "|       1.0|  1.0|\n",
      "|       1.0|  1.0|\n",
      "|       1.0|  1.0|\n",
      "|       0.0|  0.0|\n",
      "|       1.0|  1.0|\n",
      "|       1.0|  1.0|\n",
      "|       1.0|  1.0|\n",
      "+----------+-----+\n",
      "only showing top 10 rows\n",
      "\n"
     ]
    }
   ],
   "source": [
    "# Let's make predictions using our test data set:\n",
    "\n",
    "predictions = model.transform(testData)\n",
    "predictions.select('prediction','label').show(10)"
   ]
  },
  {
   "cell_type": "code",
   "execution_count": 19,
   "metadata": {
    "collapsed": true
   },
   "outputs": [],
   "source": [
    "# Finally, let's save the predictions to a CSV file. We will save only the prediction and label columns to a CSV file:\n",
    "\n",
    "predictions.select('prediction','label').write.save(path=\"file:///home/cloudera/Downloads/big-data-4/predictions.csv\",\n",
    "                                                   format=\"com.databricks.spark.csv\",\n",
    "                                                   header='true')"
   ]
  },
  {
   "cell_type": "code",
   "execution_count": null,
   "metadata": {
    "collapsed": true
   },
   "outputs": [],
   "source": []
  }
 ],
 "metadata": {
  "kernelspec": {
   "display_name": "Python 3",
   "language": "python",
   "name": "python3"
  },
  "language_info": {
   "codemirror_mode": {
    "name": "ipython",
    "version": 3
   },
   "file_extension": ".py",
   "mimetype": "text/x-python",
   "name": "python",
   "nbconvert_exporter": "python",
   "pygments_lexer": "ipython3",
   "version": "3.5.1"
  }
 },
 "nbformat": 4,
 "nbformat_minor": 0
}