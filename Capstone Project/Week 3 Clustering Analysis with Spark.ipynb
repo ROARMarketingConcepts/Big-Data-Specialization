{
 "cells": [
  {
   "cell_type": "code",
   "execution_count": 17,
   "metadata": {
    "collapsed": true
   },
   "outputs": [],
   "source": [
    "from pyspark.sql import SQLContext\n",
    "from pyspark.ml.clustering import KMeans\n",
    "from pyspark.ml.feature import VectorAssembler\n",
    "from pyspark.ml.feature import StandardScaler\n",
    "from pyspark.sql import Row"
   ]
  },
  {
   "cell_type": "code",
   "execution_count": 18,
   "metadata": {
    "collapsed": false
   },
   "outputs": [],
   "source": [
    "spark = SQLContext(sc)\n",
    "ad_clicks = sqlContext.read.load('file:///home/cloudera/Downloads/big_data_capstone_datasets_and_scripts/flamingo-data/ad-clicks.csv', \n",
    "                        format='com.databricks.spark.csv', \n",
    "                        header='true',inferSchema='true')\n",
    "\n",
    "buy_clicks = sqlContext.read.load('file:///home/cloudera/Downloads/big_data_capstone_datasets_and_scripts/flamingo-data/buy-clicks.csv', \n",
    "                        format='com.databricks.spark.csv', \n",
    "                        header='true',inferSchema='true')\n",
    "\n",
    "game_clicks = sqlContext.read.load('file:///home/cloudera/Downloads/big_data_capstone_datasets_and_scripts/flamingo-data/game-clicks.csv', \n",
    "                        format='com.databricks.spark.csv', \n",
    "                        header='true',inferSchema='true')\n",
    "\n",
    "level_events = sqlContext.read.load('file:///home/cloudera/Downloads/big_data_capstone_datasets_and_scripts/flamingo-data/level-events.csv', \n",
    "                        format='com.databricks.spark.csv', \n",
    "                        header='true',inferSchema='true')\n",
    "\n",
    "team_assignments = sqlContext.read.load('file:///home/cloudera/Downloads/big_data_capstone_datasets_and_scripts/flamingo-data/team-assignments.csv', \n",
    "                        format='com.databricks.spark.csv', \n",
    "                        header='true',inferSchema='true')\n",
    "\n",
    "team = sqlContext.read.load('file:///home/cloudera/Downloads/big_data_capstone_datasets_and_scripts/flamingo-data/team.csv', \n",
    "                        format='com.databricks.spark.csv', \n",
    "                        header='true',inferSchema='true')\n",
    "\n",
    "user_sessions = sqlContext.read.load('file:///home/cloudera/Downloads/big_data_capstone_datasets_and_scripts/flamingo-data/user-session.csv', \n",
    "                        format='com.databricks.spark.csv', \n",
    "                        header='true',inferSchema='true')\n",
    "\n",
    "users = sqlContext.read.load('file:///home/cloudera/Downloads/big_data_capstone_datasets_and_scripts/flamingo-data/users.csv', \n",
    "                        format='com.databricks.spark.csv', \n",
    "                        header='true',inferSchema='true')\n",
    "\n",
    "combined_data = sqlContext.read.load('file:///home/cloudera/Downloads/big_data_capstone_datasets_and_scripts/combined-data.csv', \n",
    "                        format='com.databricks.spark.csv', \n",
    "                        header='true',inferSchema='true')"
   ]
  },
  {
   "cell_type": "code",
   "execution_count": 19,
   "metadata": {
    "collapsed": false
   },
   "outputs": [
    {
     "data": {
      "text/plain": [
       "['timestamp',\n",
       " 'txId',\n",
       " 'userSessionId',\n",
       " 'teamId',\n",
       " 'userId',\n",
       " 'adId',\n",
       " 'adCategory']"
      ]
     },
     "execution_count": 19,
     "metadata": {},
     "output_type": "execute_result"
    }
   ],
   "source": [
    "ad_clicks.columns"
   ]
  },
  {
   "cell_type": "code",
   "execution_count": 49,
   "metadata": {
    "collapsed": false
   },
   "outputs": [
    {
     "data": {
      "text/plain": [
       "16323"
      ]
     },
     "execution_count": 49,
     "metadata": {},
     "output_type": "execute_result"
    }
   ],
   "source": [
    "ad_clicks.count()"
   ]
  },
  {
   "cell_type": "code",
   "execution_count": 22,
   "metadata": {
    "collapsed": false
   },
   "outputs": [
    {
     "data": {
      "text/plain": [
       "['timestamp', 'txId', 'userSessionId', 'team', 'userId', 'buyId', 'price']"
      ]
     },
     "execution_count": 22,
     "metadata": {},
     "output_type": "execute_result"
    }
   ],
   "source": [
    "buy_clicks.columns"
   ]
  },
  {
   "cell_type": "code",
   "execution_count": 44,
   "metadata": {
    "collapsed": false
   },
   "outputs": [
    {
     "data": {
      "text/plain": [
       "2947"
      ]
     },
     "execution_count": 44,
     "metadata": {},
     "output_type": "execute_result"
    }
   ],
   "source": [
    "buy_clicks.count()"
   ]
  },
  {
   "cell_type": "code",
   "execution_count": 24,
   "metadata": {
    "collapsed": false
   },
   "outputs": [
    {
     "data": {
      "text/plain": [
       "['timestamp',\n",
       " 'clickId',\n",
       " 'userId',\n",
       " 'userSessionId',\n",
       " 'isHit',\n",
       " 'teamId',\n",
       " 'teamLevel']"
      ]
     },
     "execution_count": 24,
     "metadata": {},
     "output_type": "execute_result"
    }
   ],
   "source": [
    "game_clicks.columns"
   ]
  },
  {
   "cell_type": "code",
   "execution_count": 50,
   "metadata": {
    "collapsed": false
   },
   "outputs": [
    {
     "data": {
      "text/plain": [
       "755806"
      ]
     },
     "execution_count": 50,
     "metadata": {},
     "output_type": "execute_result"
    }
   ],
   "source": [
    "game_clicks.count()"
   ]
  },
  {
   "cell_type": "code",
   "execution_count": 25,
   "metadata": {
    "collapsed": false
   },
   "outputs": [
    {
     "data": {
      "text/plain": [
       "['timestamp', 'eventId', 'teamId', 'teamLevel', 'eventType']"
      ]
     },
     "execution_count": 25,
     "metadata": {},
     "output_type": "execute_result"
    }
   ],
   "source": [
    "level_events.columns"
   ]
  },
  {
   "cell_type": "code",
   "execution_count": 51,
   "metadata": {
    "collapsed": false
   },
   "outputs": [
    {
     "data": {
      "text/plain": [
       "1254"
      ]
     },
     "execution_count": 51,
     "metadata": {},
     "output_type": "execute_result"
    }
   ],
   "source": [
    "level_events.count()"
   ]
  },
  {
   "cell_type": "code",
   "execution_count": 26,
   "metadata": {
    "collapsed": false
   },
   "outputs": [
    {
     "data": {
      "text/plain": [
       "['timestamp', 'team', 'userId', 'assignmentId']"
      ]
     },
     "execution_count": 26,
     "metadata": {},
     "output_type": "execute_result"
    }
   ],
   "source": [
    "team_assignments.columns"
   ]
  },
  {
   "cell_type": "code",
   "execution_count": 52,
   "metadata": {
    "collapsed": false
   },
   "outputs": [
    {
     "data": {
      "text/plain": [
       "9826"
      ]
     },
     "execution_count": 52,
     "metadata": {},
     "output_type": "execute_result"
    }
   ],
   "source": [
    "team_assignments.count()"
   ]
  },
  {
   "cell_type": "code",
   "execution_count": 27,
   "metadata": {
    "collapsed": false
   },
   "outputs": [
    {
     "data": {
      "text/plain": [
       "['teamId',\n",
       " 'name',\n",
       " 'teamCreationTime',\n",
       " 'teamEndTime',\n",
       " 'strength',\n",
       " 'currentLevel']"
      ]
     },
     "execution_count": 27,
     "metadata": {},
     "output_type": "execute_result"
    }
   ],
   "source": [
    "team.columns"
   ]
  },
  {
   "cell_type": "code",
   "execution_count": 28,
   "metadata": {
    "collapsed": false
   },
   "outputs": [
    {
     "data": {
      "text/plain": [
       "['timestamp',\n",
       " 'userSessionId',\n",
       " 'userId',\n",
       " 'teamId',\n",
       " 'assignmentId',\n",
       " 'sessionType',\n",
       " 'teamLevel',\n",
       " 'platformType']"
      ]
     },
     "execution_count": 28,
     "metadata": {},
     "output_type": "execute_result"
    }
   ],
   "source": [
    "user_sessions.columns"
   ]
  },
  {
   "cell_type": "code",
   "execution_count": 48,
   "metadata": {
    "collapsed": false
   },
   "outputs": [
    {
     "data": {
      "text/plain": [
       "9250"
      ]
     },
     "execution_count": 48,
     "metadata": {},
     "output_type": "execute_result"
    }
   ],
   "source": [
    "user_sessions.count()"
   ]
  },
  {
   "cell_type": "code",
   "execution_count": 29,
   "metadata": {
    "collapsed": false
   },
   "outputs": [
    {
     "data": {
      "text/plain": [
       "['timestamp', 'userId', 'nick', 'twitter', 'dob', 'country']"
      ]
     },
     "execution_count": 29,
     "metadata": {},
     "output_type": "execute_result"
    }
   ],
   "source": [
    "users.columns"
   ]
  },
  {
   "cell_type": "code",
   "execution_count": 30,
   "metadata": {
    "collapsed": false
   },
   "outputs": [
    {
     "data": {
      "text/plain": [
       "['userId',\n",
       " 'userSessionId',\n",
       " 'teamLevel',\n",
       " 'platformType',\n",
       " 'count_gameclicks',\n",
       " 'count_hits',\n",
       " 'count_buyId',\n",
       " 'avg_price']"
      ]
     },
     "execution_count": 30,
     "metadata": {},
     "output_type": "execute_result"
    }
   ],
   "source": [
    "combined_data.columns"
   ]
  },
  {
   "cell_type": "code",
   "execution_count": 42,
   "metadata": {
    "collapsed": false
   },
   "outputs": [
    {
     "data": {
      "text/plain": [
       "4619"
      ]
     },
     "execution_count": 42,
     "metadata": {},
     "output_type": "execute_result"
    }
   ],
   "source": [
    "combined_data.count()"
   ]
  },
  {
   "cell_type": "code",
   "execution_count": 40,
   "metadata": {
    "collapsed": false
   },
   "outputs": [
    {
     "name": "stdout",
     "output_type": "stream",
     "text": [
      "+---------+-----+\n",
      "|avg_price|count|\n",
      "+---------+-----+\n",
      "|     NULL| 3208|\n",
      "|     3.00|  274|\n",
      "|     1.00|  217|\n",
      "|    20.00|  196|\n",
      "|    10.00|  121|\n",
      "|     2.00|  118|\n",
      "|     5.00|   99|\n",
      "|    15.00|   57|\n",
      "|    12.50|   31|\n",
      "|    11.50|   28|\n",
      "|     2.50|   25|\n",
      "|     1.50|   24|\n",
      "|     7.50|   21|\n",
      "|     4.00|   19|\n",
      "|    16.67|   15|\n",
      "|    11.00|   14|\n",
      "|     6.50|   11|\n",
      "|     3.50|   11|\n",
      "|     6.00|   11|\n",
      "|    11.67|   10|\n",
      "+---------+-----+\n",
      "only showing top 20 rows\n",
      "\n"
     ]
    }
   ],
   "source": [
    "combined_data.groupBy('avg_price').count().orderBy('count',ascending=False).show()"
   ]
  },
  {
   "cell_type": "code",
   "execution_count": 43,
   "metadata": {
    "collapsed": false
   },
   "outputs": [
    {
     "name": "stdout",
     "output_type": "stream",
     "text": [
      "+-----------+-----+\n",
      "|count_buyId|count|\n",
      "+-----------+-----+\n",
      "|       NULL| 3208|\n",
      "|          1|  758|\n",
      "|          2|  430|\n",
      "|          3|  152|\n",
      "|          4|   57|\n",
      "|          5|   11|\n",
      "|          6|    3|\n",
      "+-----------+-----+\n",
      "\n"
     ]
    }
   ],
   "source": [
    "combined_data.groupBy('count_buyId').count().orderBy('count',ascending=False).show()"
   ]
  },
  {
   "cell_type": "code",
   "execution_count": null,
   "metadata": {
    "collapsed": true
   },
   "outputs": [],
   "source": []
  }
 ],
 "metadata": {
  "kernelspec": {
   "display_name": "Python 3",
   "language": "python",
   "name": "python3"
  },
  "language_info": {
   "codemirror_mode": {
    "name": "ipython",
    "version": 3
   },
   "file_extension": ".py",
   "mimetype": "text/x-python",
   "name": "python",
   "nbconvert_exporter": "python",
   "pygments_lexer": "ipython3",
   "version": "3.5.1"
  }
 },
 "nbformat": 4,
 "nbformat_minor": 0
}