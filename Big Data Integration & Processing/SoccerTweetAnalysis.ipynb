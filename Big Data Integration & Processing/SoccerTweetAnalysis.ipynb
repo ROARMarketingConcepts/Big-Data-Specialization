{
 "cells": [
  {
   "cell_type": "code",
   "execution_count": 1,
   "metadata": {
    "collapsed": false
   },
   "outputs": [],
   "source": [
    "# Import and create a new SQLContext \n",
    "from pyspark.sql import SQLContext\n",
    "sc = SparkContext.getOrCreate()\n",
    "sqlContext = SQLContext(sc)"
   ]
  },
  {
   "cell_type": "code",
   "execution_count": 2,
   "metadata": {
    "collapsed": false
   },
   "outputs": [
    {
     "data": {
      "text/plain": [
       "['Afghanistan, AFG',\n",
       " 'Albania, ALB',\n",
       " 'Algeria, ALG',\n",
       " 'American Samoa, ASA',\n",
       " 'Andorra, AND']"
      ]
     },
     "execution_count": 2,
     "metadata": {},
     "output_type": "execute_result"
    }
   ],
   "source": [
    "# Read the country CSV file into an RDD.\n",
    "country_lines = sc.textFile('file:///home/cloudera/Downloads/big-data-3/final-project/country-list.csv')\n",
    "country_lines.take(5)"
   ]
  },
  {
   "cell_type": "code",
   "execution_count": 3,
   "metadata": {
    "collapsed": false
   },
   "outputs": [
    {
     "data": {
      "text/plain": [
       "[['Afghanistan', ' AFG'],\n",
       " ['Albania', ' ALB'],\n",
       " ['Algeria', ' ALG'],\n",
       " ['American Samoa', ' ASA'],\n",
       " ['Andorra', ' AND']]"
      ]
     },
     "execution_count": 3,
     "metadata": {},
     "output_type": "execute_result"
    }
   ],
   "source": [
    "# Convert each line into a pair of words\n",
    "country_pairs = country_lines.map(lambda country_line : country_line.split(\",\"))\n",
    "country_pairs.take(5)"
   ]
  },
  {
   "cell_type": "code",
   "execution_count": 4,
   "metadata": {
    "collapsed": false
   },
   "outputs": [
    {
     "data": {
      "text/plain": [
       "[('Afghanistan', ' AFG'),\n",
       " ('Albania', ' ALB'),\n",
       " ('Algeria', ' ALG'),\n",
       " ('American Samoa', ' ASA'),\n",
       " ('Andorra', ' AND')]"
      ]
     },
     "execution_count": 4,
     "metadata": {},
     "output_type": "execute_result"
    }
   ],
   "source": [
    "# Convert each pair of words into a tuple\n",
    "country_tuples = country_pairs.map(lambda country_pair: (country_pair[0],country_pair[1]))\n",
    "country_tuples.take(5)"
   ]
  },
  {
   "cell_type": "code",
   "execution_count": 5,
   "metadata": {
    "collapsed": false
   },
   "outputs": [
    {
     "name": "stdout",
     "output_type": "stream",
     "text": [
      "root\n",
      " |-- country: string (nullable = true)\n",
      " |-- code: string (nullable = true)\n",
      "\n"
     ]
    },
    {
     "data": {
      "text/plain": [
       "[Row(country='Afghanistan', code=' AFG'),\n",
       " Row(country='Albania', code=' ALB'),\n",
       " Row(country='Algeria', code=' ALG')]"
      ]
     },
     "execution_count": 5,
     "metadata": {},
     "output_type": "execute_result"
    }
   ],
   "source": [
    "# Create the DataFrame, look at schema and contents\n",
    "countryDF = sqlContext.createDataFrame(country_tuples, [\"country\", \"code\"])\n",
    "countryDF.printSchema()\n",
    "countryDF.take(3)"
   ]
  },
  {
   "cell_type": "code",
   "execution_count": 6,
   "metadata": {
    "collapsed": false
   },
   "outputs": [
    {
     "data": {
      "text/plain": [
       "13995"
      ]
     },
     "execution_count": 6,
     "metadata": {},
     "output_type": "execute_result"
    }
   ],
   "source": [
    "# Read tweets CSV file into RDD of lines\n",
    "tweets = sc.textFile('file:///home/cloudera/Downloads/big-data-3/mongodb/export_twitter.csv')\n",
    "tweets.count()"
   ]
  },
  {
   "cell_type": "code",
   "execution_count": 7,
   "metadata": {
    "collapsed": false
   },
   "outputs": [
    {
     "data": {
      "text/plain": [
       "13391"
      ]
     },
     "execution_count": 7,
     "metadata": {},
     "output_type": "execute_result"
    }
   ],
   "source": [
    "# Clean the data: some tweets are empty. Remove the empty tweets using filter() \n",
    "tweets = tweets.filter(bool)\n",
    "tweets.count()"
   ]
  },
  {
   "cell_type": "code",
   "execution_count": 8,
   "metadata": {
    "collapsed": false
   },
   "outputs": [
    {
     "data": {
      "text/plain": [
       "[('', 3292),\n",
       " ('https://t.co/fQftAwGAad', 1),\n",
       " ('mobile', 1),\n",
       " ('#FridayNightTouchdown', 1),\n",
       " ('circle', 7)]"
      ]
     },
     "execution_count": 8,
     "metadata": {},
     "output_type": "execute_result"
    }
   ],
   "source": [
    "# Perform WordCount on the cleaned tweet texts. (note: this is several lines.)\n",
    "words = tweets.flatMap(lambda tweet: tweet.split(\" \"))\n",
    "tuples = words.map(lambda word: (word,1))\n",
    "tweet_word_counts = tuples.reduceByKey(lambda a,b: (a+b))\n",
    "tweet_word_counts.take(5)"
   ]
  },
  {
   "cell_type": "code",
   "execution_count": 9,
   "metadata": {
    "collapsed": false
   },
   "outputs": [
    {
     "name": "stdout",
     "output_type": "stream",
     "text": [
      "root\n",
      " |-- word: string (nullable = true)\n",
      " |-- count: long (nullable = true)\n",
      "\n"
     ]
    },
    {
     "data": {
      "text/plain": [
       "[Row(word='', count=3292),\n",
       " Row(word='https://t.co/fQftAwGAad', count=1),\n",
       " Row(word='mobile', count=1),\n",
       " Row(word='#FridayNightTouchdown', count=1),\n",
       " Row(word='circle', count=7),\n",
       " Row(word='#thfc', count=2),\n",
       " Row(word='reinstated', count=4),\n",
       " Row(word='like?\"', count=1),\n",
       " Row(word='Bellow', count=1),\n",
       " Row(word='now\"', count=1)]"
      ]
     },
     "execution_count": 9,
     "metadata": {},
     "output_type": "execute_result"
    }
   ],
   "source": [
    "# Create the DataFrame of tweet word counts\n",
    "tweetDF = sqlContext.createDataFrame(tweet_word_counts, [\"word\", \"count\"])\n",
    "tweetDF.printSchema()\n",
    "tweetDF.take(10)"
   ]
  },
  {
   "cell_type": "code",
   "execution_count": 10,
   "metadata": {
    "collapsed": false
   },
   "outputs": [
    {
     "name": "stdout",
     "output_type": "stream",
     "text": [
      "root\n",
      " |-- code: string (nullable = true)\n",
      " |-- country: string (nullable = true)\n",
      " |-- count: long (nullable = true)\n",
      "\n"
     ]
    },
    {
     "data": {
      "text/plain": [
       "[Row(code=' THA', country='Thailand', count=1),\n",
       " Row(code=' ISL', country='Iceland', count=2),\n",
       " Row(code=' MEX', country='Mexico', count=1),\n",
       " Row(code=' WAL', country='Wales', count=19),\n",
       " Row(code=' DEN', country='Denmark', count=1)]"
      ]
     },
     "execution_count": 10,
     "metadata": {},
     "output_type": "execute_result"
    }
   ],
   "source": [
    "# Join the country and tweet data frames (on the appropriate column)\n",
    "from pyspark.sql.functions import col \n",
    "joinedDF = countryDF.alias('c').join(tweetDF.alias('t'),\n",
    "        col('c.country') == col('t.word')).select(col('c.code'),col('c.country'), col('t.count'))\n",
    "joinedDF.printSchema()\n",
    "joinedDF.take(5)"
   ]
  },
  {
   "cell_type": "code",
   "execution_count": 15,
   "metadata": {
    "collapsed": false
   },
   "outputs": [
    {
     "data": {
      "text/plain": [
       "44"
      ]
     },
     "execution_count": 15,
     "metadata": {},
     "output_type": "execute_result"
    }
   ],
   "source": [
    "# Question 1: number of distinct countries mentioned\n",
    "joinedDF.count()"
   ]
  },
  {
   "cell_type": "code",
   "execution_count": 29,
   "metadata": {
    "collapsed": false
   },
   "outputs": [
    {
     "data": {
      "text/plain": [
       "Row(sum(count)=397)"
      ]
     },
     "execution_count": 29,
     "metadata": {},
     "output_type": "execute_result"
    }
   ],
   "source": [
    "# Question 2: number of countries mentioned in tweets.\n",
    "from pyspark.sql.functions import sum\n",
    "joinedDF.agg(sum(\"count\")).first()"
   ]
  },
  {
   "cell_type": "code",
   "execution_count": 31,
   "metadata": {
    "collapsed": false
   },
   "outputs": [
    {
     "data": {
      "text/plain": [
       "Row(avg(count)=9.022727272727273)"
      ]
     },
     "execution_count": 31,
     "metadata": {},
     "output_type": "execute_result"
    }
   ],
   "source": [
    "# Average number of times a country is mentioned\n",
    "from pyspark.sql.functions import mean\n",
    "joinedDF.agg(mean(\"count\")).first()"
   ]
  },
  {
   "cell_type": "code",
   "execution_count": 22,
   "metadata": {
    "collapsed": false
   },
   "outputs": [
    {
     "data": {
      "text/plain": [
       "[Row(code=' NOR', country='Norway', count=52),\n",
       " Row(code=' NGA', country='Nigeria', count=49),\n",
       " Row(code=' FRA', country='France', count=42)]"
      ]
     },
     "execution_count": 22,
     "metadata": {},
     "output_type": "execute_result"
    }
   ],
   "source": [
    "# Table 1: top three countries and their counts.\n",
    "from pyspark.sql.functions import desc\n",
    "joinedDF.sort(desc(\"count\")).take(3)"
   ]
  },
  {
   "cell_type": "code",
   "execution_count": 30,
   "metadata": {
    "collapsed": false
   },
   "outputs": [
    {
     "data": {
      "text/plain": [
       "[Row(code=' WAL', country='Wales', count=19),\n",
       " Row(code=' NED', country='Netherlands', count=13),\n",
       " Row(code=' KEN', country='Kenya', count=3)]"
      ]
     },
     "execution_count": 30,
     "metadata": {},
     "output_type": "execute_result"
    }
   ],
   "source": [
    "# Table 2: counts for Wales, Kenya, and Netherlands.\n",
    "joinedDF[(joinedDF[\"country\"] == \"Wales\") |(joinedDF[\"country\"] == \"Kenya\") | (joinedDF[\"country\"] == \"Netherlands\")].take(3)"
   ]
  },
  {
   "cell_type": "code",
   "execution_count": null,
   "metadata": {
    "collapsed": true
   },
   "outputs": [],
   "source": []
  }
 ],
 "metadata": {
  "kernelspec": {
   "display_name": "Python 3",
   "language": "python",
   "name": "python3"
  },
  "language_info": {
   "codemirror_mode": {
    "name": "ipython",
    "version": 3
   },
   "file_extension": ".py",
   "mimetype": "text/x-python",
   "name": "python",
   "nbconvert_exporter": "python",
   "pygments_lexer": "ipython3",
   "version": "3.5.1"
  }
 },
 "nbformat": 4,
 "nbformat_minor": 0
}