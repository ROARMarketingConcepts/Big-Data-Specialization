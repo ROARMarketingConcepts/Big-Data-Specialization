{
 "cells": [
  {
   "cell_type": "code",
   "execution_count": 1,
   "metadata": {
    "collapsed": true
   },
   "outputs": [],
   "source": [
    "from pyspark.sql import SQLContext\n",
    "from pyspark.ml.clustering import KMeans\n",
    "from pyspark.ml.feature import VectorAssembler\n",
    "from pyspark.ml.feature import StandardScaler"
   ]
  },
  {
   "cell_type": "markdown",
   "metadata": {},
   "source": [
    "**Read in 'buy-clicks.csv' and 'combined_data.csv' files...**"
   ]
  },
  {
   "cell_type": "code",
   "execution_count": 2,
   "metadata": {
    "collapsed": false
   },
   "outputs": [],
   "source": [
    "spark = SQLContext(sc)\n",
    "\n",
    "buy_clicks = sqlContext.read.load('file:///home/cloudera/Downloads/big_data_capstone_datasets_and_scripts/flamingo-data/buy-clicks.csv', \n",
    "                        format='com.databricks.spark.csv', \n",
    "                        header='true',inferSchema='true')\n",
    "\n",
    "combined_data = sqlContext.read.load('file:///home/cloudera/Downloads/big_data_capstone_datasets_and_scripts/combined-data.csv', \n",
    "                        format='com.databricks.spark.csv', \n",
    "                        header='true',inferSchema='true')"
   ]
  },
  {
   "cell_type": "code",
   "execution_count": 3,
   "metadata": {
    "collapsed": false
   },
   "outputs": [
    {
     "data": {
      "text/plain": [
       "['timestamp', 'txId', 'userSessionId', 'team', 'userId', 'buyId', 'price']"
      ]
     },
     "execution_count": 3,
     "metadata": {},
     "output_type": "execute_result"
    }
   ],
   "source": [
    "buy_clicks.columns"
   ]
  },
  {
   "cell_type": "code",
   "execution_count": 4,
   "metadata": {
    "collapsed": false
   },
   "outputs": [
    {
     "data": {
      "text/plain": [
       "2947"
      ]
     },
     "execution_count": 4,
     "metadata": {},
     "output_type": "execute_result"
    }
   ],
   "source": [
    "buy_clicks.count()"
   ]
  },
  {
   "cell_type": "code",
   "execution_count": 5,
   "metadata": {
    "collapsed": false
   },
   "outputs": [
    {
     "data": {
      "text/plain": [
       "pyspark.sql.dataframe.DataFrame"
      ]
     },
     "execution_count": 5,
     "metadata": {},
     "output_type": "execute_result"
    }
   ],
   "source": [
    "type(buy_clicks)"
   ]
  },
  {
   "cell_type": "markdown",
   "metadata": {},
   "source": [
    "**Aggregate total purchases by userId by summing up the price column in 'buy_clicks'**"
   ]
  },
  {
   "cell_type": "code",
   "execution_count": 6,
   "metadata": {
    "collapsed": false
   },
   "outputs": [
    {
     "name": "stdout",
     "output_type": "stream",
     "text": [
      "+------+----------+\n",
      "|userId|sum(price)|\n",
      "+------+----------+\n",
      "|   231|      63.0|\n",
      "|  2032|      20.0|\n",
      "|   233|      28.0|\n",
      "|  1234|      53.0|\n",
      "|  1634|      27.0|\n",
      "|    34|      95.0|\n",
      "|  1434|       9.0|\n",
      "|  1835|      27.0|\n",
      "|  2035|      40.0|\n",
      "|  1235|      40.0|\n",
      "|  1436|      16.0|\n",
      "|   436|      43.0|\n",
      "|  1636|      25.0|\n",
      "|   236|      43.0|\n",
      "|  2236|      15.0|\n",
      "|  1837|      67.0|\n",
      "|    38|      30.0|\n",
      "|  1639|     155.0|\n",
      "|   239|      20.0|\n",
      "|   439|      25.0|\n",
      "+------+----------+\n",
      "only showing top 20 rows\n",
      "\n"
     ]
    },
    {
     "data": {
      "text/plain": [
       "NoneType"
      ]
     },
     "execution_count": 6,
     "metadata": {},
     "output_type": "execute_result"
    }
   ],
   "source": [
    "total_purchases = buy_clicks.groupBy('userId').sum('price').show()\n",
    "type(total_purchases)"
   ]
  },
  {
   "cell_type": "markdown",
   "metadata": {},
   "source": [
    "**Convert 'total_purchases' to a dataframe...**"
   ]
  },
  {
   "cell_type": "code",
   "execution_count": 7,
   "metadata": {
    "collapsed": false
   },
   "outputs": [
    {
     "data": {
      "text/plain": [
       "pyspark.sql.dataframe.DataFrame"
      ]
     },
     "execution_count": 7,
     "metadata": {},
     "output_type": "execute_result"
    }
   ],
   "source": [
    "total_purchases = buy_clicks.groupBy('userId').sum('price')\n",
    "type(total_purchases)"
   ]
  },
  {
   "cell_type": "code",
   "execution_count": 8,
   "metadata": {
    "collapsed": false
   },
   "outputs": [
    {
     "data": {
      "text/plain": [
       "['userId',\n",
       " 'userSessionId',\n",
       " 'teamLevel',\n",
       " 'platformType',\n",
       " 'count_gameclicks',\n",
       " 'count_hits',\n",
       " 'count_buyId',\n",
       " 'avg_price']"
      ]
     },
     "execution_count": 8,
     "metadata": {},
     "output_type": "execute_result"
    }
   ],
   "source": [
    "combined_data.columns"
   ]
  },
  {
   "cell_type": "code",
   "execution_count": 9,
   "metadata": {
    "collapsed": false
   },
   "outputs": [
    {
     "data": {
      "text/plain": [
       "4619"
      ]
     },
     "execution_count": 9,
     "metadata": {},
     "output_type": "execute_result"
    }
   ],
   "source": [
    "combined_data.count()"
   ]
  },
  {
   "cell_type": "code",
   "execution_count": 10,
   "metadata": {
    "collapsed": false
   },
   "outputs": [
    {
     "data": {
      "text/plain": [
       "pyspark.sql.dataframe.DataFrame"
      ]
     },
     "execution_count": 10,
     "metadata": {},
     "output_type": "execute_result"
    }
   ],
   "source": [
    "type(combined_data)"
   ]
  },
  {
   "cell_type": "markdown",
   "metadata": {},
   "source": [
    "**Aggregate counts of game_clicks and flamingo hits by userId by summing up the appropriate columns in 'combined_data'**"
   ]
  },
  {
   "cell_type": "code",
   "execution_count": 11,
   "metadata": {
    "collapsed": false
   },
   "outputs": [
    {
     "name": "stdout",
     "output_type": "stream",
     "text": [
      "+------+---------------------+---------------+\n",
      "|userId|sum(count_gameclicks)|sum(count_hits)|\n",
      "+------+---------------------+---------------+\n",
      "|  1631|                  392|             45|\n",
      "|  2231|                  395|             38|\n",
      "|  2031|                 2271|            227|\n",
      "|   231|                  262|             28|\n",
      "|  2032|                  638|             59|\n",
      "|   832|                 1469|            141|\n",
      "|    32|                  281|             25|\n",
      "|  1632|                  309|             30|\n",
      "|   432|                   32|              3|\n",
      "|  1433|                  372|             53|\n",
      "|   233|                  250|             29|\n",
      "|  2033|                  575|             80|\n",
      "|   433|                   34|              2|\n",
      "|  1034|                  376|             45|\n",
      "|  1834|                  510|             47|\n",
      "|  1234|                  590|             73|\n",
      "|    34|                  665|             79|\n",
      "|  1634|                 2546|            266|\n",
      "|  1434|                  772|             89|\n",
      "|  1035|                  667|             76|\n",
      "+------+---------------------+---------------+\n",
      "only showing top 20 rows\n",
      "\n"
     ]
    }
   ],
   "source": [
    "combined_data_by_userid = combined_data.groupby('userId').sum('count_gameclicks','count_hits').show()"
   ]
  },
  {
   "cell_type": "markdown",
   "metadata": {},
   "source": [
    "**Convert 'combined_data_by_userid' to a dataframe...**"
   ]
  },
  {
   "cell_type": "code",
   "execution_count": 12,
   "metadata": {
    "collapsed": true
   },
   "outputs": [],
   "source": [
    "combined_data_by_userid = combined_data.groupby('userId').sum('count_gameclicks','count_hits')"
   ]
  },
  {
   "cell_type": "markdown",
   "metadata": {},
   "source": [
    "**Give alias names to the two datasets to be joined...**"
   ]
  },
  {
   "cell_type": "code",
   "execution_count": 13,
   "metadata": {
    "collapsed": false
   },
   "outputs": [
    {
     "name": "stdout",
     "output_type": "stream",
     "text": [
      "+------+---------------------+---------------+----------+\n",
      "|userId|sum(count_gameclicks)|sum(count_hits)|sum(price)|\n",
      "+------+---------------------+---------------+----------+\n",
      "|   231|                  262|             28|      63.0|\n",
      "|  2032|                  638|             59|      20.0|\n",
      "|   233|                  250|             29|      28.0|\n",
      "|    34|                  665|             79|      95.0|\n",
      "|  1234|                  590|             73|      53.0|\n",
      "|  1434|                  772|             89|       9.0|\n",
      "|  1634|                 2546|            266|      27.0|\n",
      "|  1235|                  367|             39|      40.0|\n",
      "|  1835|                  734|             94|      27.0|\n",
      "|   236|                  606|             70|      43.0|\n",
      "|   436|                 4392|            494|      43.0|\n",
      "|  1436|                  622|             65|      16.0|\n",
      "|  1636|                  317|             29|      25.0|\n",
      "|  2236|                  299|             36|      15.0|\n",
      "|  1837|                  714|             90|      67.0|\n",
      "|    38|                 1425|            155|      30.0|\n",
      "|   239|                  526|             50|      20.0|\n",
      "|   439|                  379|             33|      25.0|\n",
      "|  1639|                 1806|            225|     155.0|\n",
      "|  1640|                  559|             73|      72.0|\n",
      "+------+---------------------+---------------+----------+\n",
      "only showing top 20 rows\n",
      "\n"
     ]
    }
   ],
   "source": [
    "inner_join = combined_data_by_userid.alias(\"a\").join(\n",
    "    total_purchases.alias(\"b\"), combined_data_by_userid['userId'] == \n",
    "    total_purchases['userId']).select(\"a.userId\", \"a.sum(count_gameclicks)\",\n",
    "                                      \"a.sum(count_hits)\", \"b.sum(price)\").show()"
   ]
  },
  {
   "cell_type": "markdown",
   "metadata": {},
   "source": [
    "**Convert 'inner_join' to a dataframe...**"
   ]
  },
  {
   "cell_type": "code",
   "execution_count": 15,
   "metadata": {
    "collapsed": true
   },
   "outputs": [],
   "source": [
    "inner_join = combined_data_by_userid.alias(\"a\").join(\n",
    "    total_purchases.alias(\"b\"), combined_data_by_userid['userId'] == \n",
    "    total_purchases['userId']).select(\"a.userId\", \"a.sum(count_gameclicks)\",\n",
    "                                      \"a.sum(count_hits)\", \"b.sum(price)\")"
   ]
  },
  {
   "cell_type": "markdown",
   "metadata": {},
   "source": [
    "**So, we will develop clusters based on total gameclicks, total hits, and total purchases by userId. Use Vector\n",
    "Assembler to gather all of the features for clustering.**"
   ]
  },
  {
   "cell_type": "code",
   "execution_count": 16,
   "metadata": {
    "collapsed": false
   },
   "outputs": [],
   "source": [
    "featuresUsed = ['sum(count_gameclicks)', 'sum(count_hits)', 'sum(price)']\n",
    "assembler = VectorAssembler(inputCols=featuresUsed, outputCol=\"features_unscaled\")\n",
    "assembled = assembler.transform(inner_join)"
   ]
  },
  {
   "cell_type": "markdown",
   "metadata": {},
   "source": [
    "**Scale the features using StandardScaler:**"
   ]
  },
  {
   "cell_type": "code",
   "execution_count": 21,
   "metadata": {
    "collapsed": false
   },
   "outputs": [
    {
     "name": "stdout",
     "output_type": "stream",
     "text": [
      "+------+---------------------+---------------+----------+--------------------+--------------------+\n",
      "|userId|sum(count_gameclicks)|sum(count_hits)|sum(price)|   features_unscaled|            features|\n",
      "+------+---------------------+---------------+----------+--------------------+--------------------+\n",
      "|   231|                  262|             28|      63.0|   [262.0,28.0,63.0]|[-0.6344202852895...|\n",
      "|  2032|                  638|             59|      20.0|   [638.0,59.0,20.0]|[-0.0018534459321...|\n",
      "|   233|                  250|             29|      28.0|   [250.0,29.0,28.0]|[-0.6546085886733...|\n",
      "|    34|                  665|             79|      95.0|   [665.0,79.0,95.0]|[0.04357023668131...|\n",
      "|  1234|                  590|             73|      53.0|   [590.0,73.0,53.0]|[-0.0826066594671...|\n",
      "|  1434|                  772|             89|       9.0|    [772.0,89.0,9.0]|[0.22358260851973...|\n",
      "|  1634|                 2546|            266|      27.0| [2546.0,266.0,27.0]|[3.20808679208386...|\n",
      "|  1235|                  367|             39|      40.0|   [367.0,39.0,40.0]|[-0.4577726306817...|\n",
      "|  1835|                  734|             94|      27.0|   [734.0,94.0,27.0]|[0.15965298113786...|\n",
      "|   236|                  606|             70|      43.0|   [606.0,70.0,43.0]|[-0.0556889216221...|\n",
      "|   436|                 4392|            494|      43.0| [4392.0,494.0,43.0]|[6.31372079595049...|\n",
      "|  1436|                  622|             65|      16.0|   [622.0,65.0,16.0]|[-0.0287711837771...|\n",
      "|  1636|                  317|             29|      25.0|   [317.0,29.0,25.0]|[-0.5418905614473...|\n",
      "|  2236|                  299|             36|      15.0|   [299.0,36.0,15.0]|[-0.5721730165230...|\n",
      "|  1837|                  714|             90|      67.0|   [714.0,90.0,67.0]|[0.12600580883161...|\n",
      "|    38|                 1425|            155|      30.0| [1425.0,155.0,30.0]|[1.32216278431870...|\n",
      "|   239|                  526|             50|      20.0|   [526.0,50.0,20.0]|[-0.1902776108471...|\n",
      "|   439|                  379|             33|      25.0|   [379.0,33.0,25.0]|[-0.4375843272980...|\n",
      "|  1639|                 1806|            225|     155.0|[1806.0,225.0,155.0]|[1.96314141675271...|\n",
      "|  1640|                  559|             73|      72.0|   [559.0,73.0,72.0]|[-0.1347597765418...|\n",
      "+------+---------------------+---------------+----------+--------------------+--------------------+\n",
      "only showing top 20 rows\n",
      "\n"
     ]
    }
   ],
   "source": [
    "scaler = StandardScaler(inputCol=\"features_unscaled\", outputCol=\"features\", withStd=True, withMean=True)\n",
    "scalerModel = scaler.fit(assembled)\n",
    "scaledData = scalerModel.transform(assembled)\n",
    "scaledData.show()"
   ]
  },
  {
   "cell_type": "markdown",
   "metadata": {},
   "source": [
    "**Select the features column make the data persist:**"
   ]
  },
  {
   "cell_type": "code",
   "execution_count": 22,
   "metadata": {
    "collapsed": false
   },
   "outputs": [
    {
     "data": {
      "text/plain": [
       "DataFrame[features: vector]"
      ]
     },
     "execution_count": 22,
     "metadata": {},
     "output_type": "execute_result"
    }
   ],
   "source": [
    "scaledData = scaledData.select(\"features\")\n",
    "scaledData.persist()"
   ]
  },
  {
   "cell_type": "markdown",
   "metadata": {},
   "source": [
    "**We can now perform K-Means clustering to generate 2 clusters:**"
   ]
  },
  {
   "cell_type": "code",
   "execution_count": 25,
   "metadata": {
    "collapsed": true
   },
   "outputs": [],
   "source": [
    "kmeans = KMeans(k=3, seed=1)\n",
    "model = kmeans.fit(scaledData)\n",
    "transformed = model.transform(scaledData)"
   ]
  },
  {
   "cell_type": "markdown",
   "metadata": {},
   "source": [
    "**Print the center of these two clusters...**"
   ]
  },
  {
   "cell_type": "code",
   "execution_count": 26,
   "metadata": {
    "collapsed": false
   },
   "outputs": [
    {
     "data": {
      "text/plain": [
       "[array([-0.31333318, -0.33179717, -0.37859269]),\n",
       " array([ 2.35752989,  2.3388565 , -0.03049294]),\n",
       " array([-0.04642581,  0.05337151,  1.8170137 ])]"
      ]
     },
     "execution_count": 26,
     "metadata": {},
     "output_type": "execute_result"
    }
   ],
   "source": [
    "centers = model.clusterCenters()\n",
    "centers"
   ]
  },
  {
   "cell_type": "code",
   "execution_count": null,
   "metadata": {
    "collapsed": true
   },
   "outputs": [],
   "source": []
  }
 ],
 "metadata": {
  "kernelspec": {
   "display_name": "Python 3",
   "language": "python",
   "name": "python3"
  },
  "language_info": {
   "codemirror_mode": {
    "name": "ipython",
    "version": 3
   },
   "file_extension": ".py",
   "mimetype": "text/x-python",
   "name": "python",
   "nbconvert_exporter": "python",
   "pygments_lexer": "ipython3",
   "version": "3.5.1"
  }
 },
 "nbformat": 4,
 "nbformat_minor": 0
}